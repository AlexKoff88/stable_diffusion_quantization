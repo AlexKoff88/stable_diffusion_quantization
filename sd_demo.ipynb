{
 "cells": [
  {
   "cell_type": "code",
   "execution_count": 6,
   "metadata": {},
   "outputs": [],
   "source": [
    "from optimum.intel.openvino import OVStableDiffusionPipeline\n",
    "prompt = \"plant pokemon in jungle\"#\"a drawing of a green pokemon with red eyes\"# #\"Super cute fluffy cat warrior in armor, photorealistic, 4K, ultra detailed, vray rendering, unreal engine\"#\"sailing ship in storm by Rembrandt\"\n",
    "# model_id = \"runwayml/stable-diffusion-v1-5\"\n",
    "# ov_pipe = OVStableDiffusionPipeline.from_pretrained(\"/home/alex/work/experimental/stable_diffusion_quantization/ov_pipeline\")\n",
    "# ov_pipe.reshape(batch_size=1, height=512, width=512, num_images_per_prompt=1)\n",
    "# ov_pipe.compile()\n",
    "# print(\"Done\")"
   ]
  },
  {
   "cell_type": "code",
   "execution_count": 7,
   "metadata": {},
   "outputs": [],
   "source": [
    "# output = ov_pipe(prompt, num_inference_steps=50, output_type=\"pil\")"
   ]
  },
  {
   "cell_type": "code",
   "execution_count": 8,
   "metadata": {},
   "outputs": [],
   "source": [
    "from IPython.display import Image, display\n",
    "\n",
    "# display(output.images[0])"
   ]
  },
  {
   "cell_type": "code",
   "execution_count": 9,
   "metadata": {},
   "outputs": [
    {
     "name": "stderr",
     "output_type": "stream",
     "text": [
      "The config attributes {'requires_safety_checker': True, 'safety_checker': ['stable_diffusion', 'StableDiffusionSafetyChecker']} were passed to OVStableDiffusionPipeline, but are not expected and will be ignored. Please verify your model_index.json configuration file.\n",
      "Compiling the encoder and creating the inference request ...\n",
      "Compiling the encoder and creating the inference request ...\n",
      "Compiling the encoder and creating the inference request ...\n"
     ]
    },
    {
     "name": "stdout",
     "output_type": "stream",
     "text": [
      "Done\n"
     ]
    }
   ],
   "source": [
    "q_ov_pipe = OVStableDiffusionPipeline.from_pretrained(\"/home/alex/work/experimental/stable_diffusion_quantization/sd-model-finetuned/openvino\", compile=False) #sd_nncf_ov_alt\n",
    "q_ov_pipe.reshape(batch_size=1, height=512, width=512, num_images_per_prompt=1)\n",
    "q_ov_pipe.compile()\n",
    "\n",
    "print(\"Done\")"
   ]
  },
  {
   "cell_type": "code",
   "execution_count": 10,
   "metadata": {},
   "outputs": [
    {
     "data": {
      "application/vnd.jupyter.widget-view+json": {
       "model_id": "1e0fc5740b9d4be3b9b8ce957a10ec21",
       "version_major": 2,
       "version_minor": 0
      },
      "text/plain": [
       "  0%|          | 0/51 [00:00<?, ?it/s]"
      ]
     },
     "metadata": {},
     "output_type": "display_data"
    }
   ],
   "source": [
    "prompt = \"sailing ship in storm by Rembrandt\"#\"Super cute fluffy cat warrior in armor, photorealistic, 4K, ultra detailed, vray rendering, unreal engine\"#\"plant pokemon in jungle\"#\"a drawing of a green pokemon with red eyes\"#\n",
    "output = q_ov_pipe(prompt, num_inference_steps=50, output_type=\"pil\")\n",
    "display(output.images[0])"
   ]
  }
 ],
 "metadata": {
  "kernelspec": {
   "display_name": "Python 3.8.10 ('stable_diffusion')",
   "language": "python",
   "name": "python3"
  },
  "language_info": {
   "codemirror_mode": {
    "name": "ipython",
    "version": 3
   },
   "file_extension": ".py",
   "mimetype": "text/x-python",
   "name": "python",
   "nbconvert_exporter": "python",
   "pygments_lexer": "ipython3",
   "version": "3.8.10"
  },
  "vscode": {
   "interpreter": {
    "hash": "7918409a64d3d4275e0103fc4443d9be5863d1df136c02ed032407c7ae821339"
   }
  }
 },
 "nbformat": 4,
 "nbformat_minor": 2
}
